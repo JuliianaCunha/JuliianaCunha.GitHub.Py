{
  "nbformat": 4,
  "nbformat_minor": 0,
  "metadata": {
    "colab": {
      "provenance": [],
      "authorship_tag": "ABX9TyOymyR/hfPpYOSKb61u2eI9",
      "include_colab_link": true
    },
    "kernelspec": {
      "name": "python3",
      "display_name": "Python 3"
    },
    "language_info": {
      "name": "python"
    }
  },
  "cells": [
    {
      "cell_type": "markdown",
      "metadata": {
        "id": "view-in-github",
        "colab_type": "text"
      },
      "source": [
        "<a href=\"https://colab.research.google.com/github/JuliianaCunha/JuliianaCunha.GitHub.Py/blob/main/simplemedia.ipynb\" target=\"_parent\"><img src=\"https://colab.research.google.com/assets/colab-badge.svg\" alt=\"Open In Colab\"/></a>"
      ]
    },
    {
      "cell_type": "code",
      "execution_count": 2,
      "metadata": {
        "colab": {
          "base_uri": "https://localhost:8080/"
        },
        "id": "NibdPv3qSNJM",
        "outputId": "ef815618-d9f5-4f92-f361-beb3d7d27319"
      },
      "outputs": [
        {
          "output_type": "stream",
          "name": "stdout",
          "text": [
            "a média dos numeros é: 15.0\n"
          ]
        }
      ],
      "source": [
        "numeros = [5, 10, 15, 20, 25]\n",
        "soma = sum (numeros)\n",
        "media = soma / len(numeros)\n",
        "print(\"a média dos numeros é:\", media)"
      ]
    },
    {
      "cell_type": "code",
      "source": [],
      "metadata": {
        "id": "dPk2PZLgT6eE"
      },
      "execution_count": null,
      "outputs": []
    }
  ]
}